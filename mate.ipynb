{
  "cells": [
    {
      "cell_type": "markdown",
      "metadata": {
        "id": "view-in-github",
        "colab_type": "text"
      },
      "source": [
        "<a href=\"https://colab.research.google.com/github/GodDoesNotPlayDice/Python-Duoc/blob/main/mate.ipynb\" target=\"_parent\"><img src=\"https://colab.research.google.com/assets/colab-badge.svg\" alt=\"Open In Colab\"/></a>"
      ]
    },
    {
      "cell_type": "code",
      "source": [],
      "metadata": {
        "id": "eFsjpHinF1Lo"
      },
      "execution_count": null,
      "outputs": []
    },
    {
      "cell_type": "markdown",
      "source": [
        "# Susesion"
      ],
      "metadata": {
        "id": "kJwhQoNBF12h"
      }
    },
    {
      "cell_type": "code",
      "source": [
        "# Calcular el lugar de N\n",
        "a1 = 4\n",
        "r=1.5\n",
        "n= 60\n",
        "termino = a1*r**(n-1)\n",
        "an = termino # Formula general Aritmetica o Geometrica\n",
        "print(f'an={an}')"
      ],
      "metadata": {
        "id": "AkSmCB_YF64n"
      },
      "execution_count": null,
      "outputs": []
    },
    {
      "cell_type": "code",
      "source": [
        "# Calcular la Razon"
      ],
      "metadata": {
        "id": "WtMh66xgG76U"
      },
      "execution_count": null,
      "outputs": []
    }
  ],
  "metadata": {
    "colab": {
      "collapsed_sections": [],
      "name": "Te damos la bienvenida a Colaboratory",
      "toc_visible": true,
      "provenance": [],
      "include_colab_link": true
    },
    "kernelspec": {
      "display_name": "Python 3",
      "name": "python3"
    }
  },
  "nbformat": 4,
  "nbformat_minor": 0
}